{
 "cells": [
  {
   "cell_type": "code",
   "execution_count": null,
   "id": "8dcbc270",
   "metadata": {},
   "outputs": [],
   "source": [
    "import matplotlib.pyplot as plt\n",
    "from align_image_code import align_images\n",
    "import cv2\n",
    "import numpy as np\n",
    "\n",
    "alignment_points = {\n",
    "    'data/nutmeg.jpg': [(603, 288), (752, 370)],\n",
    "    'data/DerekPicture.jpg': [(297, 343), (439, 328)],\n",
    "}\n",
    "\n",
    "def apply_to_channels(im, func):\n",
    "    im_out = np.zeros_like(im)\n",
    "    for c in range(im.shape[2]):\n",
    "        im_out[:, :, c] = func(im[:, :, c])\n",
    "    return im_out"
   ]
  },
  {
   "cell_type": "code",
   "execution_count": null,
   "id": "4b8e0c47",
   "metadata": {},
   "outputs": [],
   "source": []
  }
 ],
 "metadata": {
  "kernelspec": {
   "display_name": "Python 3",
   "language": "python",
   "name": "python3"
  },
  "language_info": {
   "codemirror_mode": {
    "name": "ipython",
    "version": 3
   },
   "file_extension": ".py",
   "mimetype": "text/x-python",
   "name": "python",
   "nbconvert_exporter": "python",
   "pygments_lexer": "ipython3",
   "version": "3.13.0"
  }
 },
 "nbformat": 4,
 "nbformat_minor": 5
}
